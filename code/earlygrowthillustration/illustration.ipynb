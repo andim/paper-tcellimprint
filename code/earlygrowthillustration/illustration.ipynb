{
 "cells": [
  {
   "cell_type": "code",
   "execution_count": 6,
   "metadata": {},
   "outputs": [],
   "source": [
    "import numpy as np\n",
    "import matplotlib.pyplot as plt\n",
    "import matplotlib\n",
    "import palettable\n",
    "\n",
    "import sys\n",
    "sys.path.append('..')\n",
    "from lib import *\n",
    "\n",
    "plt.style.use('../custom.mplstyle')"
   ]
  },
  {
   "cell_type": "code",
   "execution_count": 2,
   "metadata": {},
   "outputs": [
    {
     "name": "stdout",
     "output_type": "stream",
     "text": [
      "0.2 12000.0\n"
     ]
    }
   ],
   "source": [
    "theta_c = 1e2\n",
    "b0 = 1e4\n",
    "d = 1\n",
    "tstart = 1e-3\n",
    "tend = 4.0\n",
    "C0 = 20\n",
    "gamma = theta_c*C0/b0\n",
    "Ninfty = (b0 + theta_c*C0)/d\n",
    "print(gamma, Ninfty)"
   ]
  },
  {
   "cell_type": "code",
   "execution_count": 3,
   "metadata": {},
   "outputs": [],
   "source": [
    "def growthlaw(T, d, t0, gamma):\n",
    "    return (d * (-T + t0) + np.log((-1 + np.exp(d * T))/(-1 + np.exp(d * t0)))/(1 + gamma))"
   ]
  },
  {
   "cell_type": "code",
   "execution_count": 4,
   "metadata": {},
   "outputs": [],
   "source": [
    "def repertoiresize_K(t, d, K):\n",
    "    def func(t, N):\n",
    "        return (b0/(K+N)-d)*N + theta_c * C0\n",
    "    repsize = scipy.integrate.odeint(func, 0.0, t, tfirst=True).flatten()\n",
    "    return repsize/Ninfty"
   ]
  },
  {
   "cell_type": "code",
   "execution_count": 7,
   "metadata": {},
   "outputs": [
    {
     "data": {
      "image/png": "[encoded data removed]",
      "text/plain": [
       "<Figure size 115.2x115.2 with 2 Axes>"
      ]
     },
     "metadata": {},
     "output_type": "display_data"
    }
   ],
   "source": [
    "t = np.linspace(tstart, tend, 1000)\n",
    "fig, axes = plt.subplots(figsize=(1.6, 1.6), nrows=2, sharex=True, gridspec_kw=dict(height_ratios=[2.5, 1]))\n",
    "\n",
    "ax = axes[1]\n",
    "ax.plot(t, b0/((b0 + theta_c*C0)*(1-np.exp(-d*t))/d), label='proliferation')\n",
    "ax.plot(t, d*np.ones_like(t), label='death')\n",
    "ax.set_ylabel('Rate')\n",
    "ax.legend(loc='upper right', borderpad=0.0, borderaxespad=0.0, bbox_to_anchor=(1.0, 1.1))\n",
    "ax.set_ylim(0.5, 2.3)\n",
    "ax.set_xlabel('Age (in units of 1/d)')\n",
    "\n",
    "K = 20*C0\n",
    "\n",
    "ax = axes[0]\n",
    "rep, = ax.plot(t, repertoiresize_K(t, d, K), color='k', zorder=-1)\n",
    "colors = palettable.matplotlib.Viridis_8.mpl_colors\n",
    "lines = []\n",
    "for i, tclone in enumerate([0.1, 0.4, 1.0, 2.0, 3.0]):\n",
    "    tnew = np.linspace(tclone, tend, 1000)\n",
    "    size = 13*C0*np.exp(growthlaw(tnew, d, tclone, gamma))/Ninfty\n",
    "    mask = size>0\n",
    "    y = repertoiresize_K([0.0, tclone], d, K)[1]*np.exp(growthlaw(tnew, d, tclone, gamma))\n",
    "    l, = ax.plot([tclone], y[0], '-o', color=colors[i])\n",
    "    lines.append(l)\n",
    "    ax.fill_between(tnew[mask], y[mask], y[mask]+size[mask], facecolor=colors[i])\n",
    "ax.set_ylabel('Size')\n",
    "ax.set_xlim(0.0, tend)\n",
    "ax.set_ylim(0.0, 1.1)\n",
    "ax.legend([rep, tuple(lines)], ['Repertoire', 'Clones'],\n",
    "          handler_map={tuple:matplotlib.legend_handler.HandlerTuple(ndivide=None)},\n",
    "          loc='upper left', bbox_to_anchor=(0.0, 1.1))\n",
    "for ax in axes:\n",
    "    ax.set_yticks([])\n",
    "fig.savefig(figure_directory+'model_growthillustration.svg')"
   ]
  },
  {
   "cell_type": "code",
   "execution_count": null,
   "metadata": {},
   "outputs": [],
   "source": []
  }
 ],
 "metadata": {
  "kernelspec": {
   "display_name": "Python 3",
   "language": "python",
   "name": "python3"
  },
  "language_info": {
   "codemirror_mode": {
    "name": "ipython",
    "version": 3
   },
   "file_extension": ".py",
   "mimetype": "text/x-python",
   "name": "python",
   "nbconvert_exporter": "python",
   "pygments_lexer": "ipython3",
   "version": "3.6.10"
  }
 },
 "nbformat": 4,
 "nbformat_minor": 2
}
