{
 "cells": [
  {
   "cell_type": "code",
   "execution_count": 1,
   "metadata": {},
   "outputs": [],
   "source": [
    "import pandas as pd\n",
    "import numpy as np\n",
    "import scipy.stats\n",
    "import seaborn as sns\n",
    "import palettable\n",
    "\n",
    "import sys\n",
    "sys.path.append('..')\n",
    "from lib import *\n",
    "\n",
    "import matplotlib\n",
    "import matplotlib.pyplot as plt\n",
    "import matplotlib.patches as mpatches\n",
    "\n",
    "plt.style.use('../custom.mplstyle')\n",
    "colors = palettable.matplotlib.Viridis_7.mpl_colors"
   ]
  },
  {
   "cell_type": "code",
   "execution_count": 2,
   "metadata": {},
   "outputs": [],
   "source": [
    "phenotype = 'PBMC'\n",
    "meta = pd.read_csv(data_directory + 'metadata-chu.csv', parse_dates=['date'])\n",
    "subjects = meta['subject'].unique()\n",
    "dfms = {}\n",
    "times = {}\n",
    "for subject in meta['subject'].unique():\n",
    "    time, dfm = load_chu(subject, phenotype)\n",
    "    dfms[subject] = dfm\n",
    "    times[subject] = time"
   ]
  },
  {
   "cell_type": "code",
   "execution_count": 3,
   "metadata": {},
   "outputs": [],
   "source": [
    "rankbins = np.array([0, 1000, 10000, 100000, 1e6])\n",
    "endbin = 1000\n",
    "histss = []\n",
    "for subject in range(1, 4):\n",
    "    dfm = dfms[subject]\n",
    "    rank_start = dfm['counts_0'].rank(ascending=False, method='first')\n",
    "    hists = []\n",
    "    for i in range(0, 8):\n",
    "        rank_end = dfm['counts_'+str(i)].rank(ascending=False, method='first')\n",
    "        hist, bins = np.histogram(rank_start[rank_end<=endbin], bins=rankbins+0.1)\n",
    "        hist = list(hist)\n",
    "        hist.append(endbin-np.sum(hist))\n",
    "        hists.append(hist)\n",
    "    histss.append(hists)"
   ]
  },
  {
   "cell_type": "code",
   "execution_count": 4,
   "metadata": {},
   "outputs": [],
   "source": [
    "sizes = ['$10^%g$'%int(np.log10(i)) for i in rankbins[1:]]\n",
    "sizes.append('ND')"
   ]
  },
  {
   "cell_type": "code",
   "execution_count": 5,
   "metadata": {},
   "outputs": [],
   "source": [
    "def plot(ax, time, sizes, hists):\n",
    "    df = pd.DataFrame(dict(size=sizes*len(time),\n",
    "                       fraction=np.array(hists).flatten()/endbin,\n",
    "                       times=(time[:, np.newaxis]*np.ones(len(hists[0]), dtype=int).T).flatten()))\n",
    "    dfp = df.pivot(index='times', columns='size', values='fraction')\n",
    "    dfpcum = dfp.cumsum(axis='columns')\n",
    "    ax.fill_between(dfp.index, [0.0]*dfp.shape[0], dfpcum.iloc[:, 0], color=colors[0])\n",
    "    for i in range(4):\n",
    "        ax.fill_between(dfp.index, dfpcum.iloc[:, i], dfpcum.iloc[:, i+1], color=colors[i+1])\n",
    "    for t in time[1:]:\n",
    "        ax.axvline(t, c='grey')\n",
    "        ax.arrow(t, 1.1, 0.0, -0.05, color='grey', width=0.0005, head_width=0.003, clip_on=False)\n",
    "    ax.set_ylim(0.0, 1.0)\n",
    "    ax.set_xlim(min(time[1:])-0.01, max(time)+0.01)\n",
    "    ax.set_xlabel('Time difference in years')\n",
    "    handles = []\n",
    "    for i, size in enumerate(sizes):\n",
    "        print(size)\n",
    "        patch = mpatches.Patch(color=colors[i], label=size)\n",
    "        handles.append(patch)\n",
    "    return handles"
   ]
  },
  {
   "cell_type": "code",
   "execution_count": 6,
   "metadata": {},
   "outputs": [
    {
     "name": "stdout",
     "output_type": "stream",
     "text": [
      "$10^3$\n",
      "$10^4$\n",
      "$10^5$\n",
      "$10^6$\n",
      "ND\n",
      "$10^3$\n",
      "$10^4$\n",
      "$10^5$\n",
      "$10^6$\n",
      "ND\n",
      "$10^3$\n",
      "$10^4$\n",
      "$10^5$\n",
      "$10^6$\n",
      "ND\n"
     ]
    },
    {
     "data": {
      "image/png": "[encoded data removed]",
      "text/plain": [
       "<Figure size 432x136.8 with 3 Axes>"
      ]
     },
     "metadata": {},
     "output_type": "display_data"
    }
   ],
   "source": [
    "fig, axes = plt.subplots(figsize=(2.0*3, 1.9), ncols=3, sharey=True)\n",
    "for subject in range(1, 4):\n",
    "    ax = axes[subject-1]\n",
    "    time = times[subject]\n",
    "    hists = histss[subject-1]\n",
    "    handles = plot(ax, time=time, sizes=sizes, hists=hists)\n",
    "    ax.set_title('Subject %g'%subject, pad=13.0, fontsize='small')\n",
    "    ax.set_xticks(np.arange(0.2, 1.1, 0.2))\n",
    "\n",
    "axes[0].set_ylabel('Fraction of 1000\\nlargest clones')\n",
    "axes[-1].legend(handles=handles, title='Rank at t=0\\n(binned)', loc='upper left', bbox_to_anchor=(1.0, 1.0))\n",
    "fig.tight_layout()\n",
    "label_axes(axes, xy=(-0.1, 1.1), va='bottom')\n",
    "fig.savefig(figure_directory + 'chu_origin_large_clones.svg')"
   ]
  },
  {
   "cell_type": "code",
   "execution_count": 7,
   "metadata": {},
   "outputs": [
    {
     "name": "stdout",
     "output_type": "stream",
     "text": [
      "$10^3$\n",
      "$10^4$\n",
      "$10^5$\n",
      "$10^6$\n",
      "ND\n"
     ]
    },
    {
     "data": {
      "image/png": "[encoded data removed]",
      "text/plain": [
       "<Figure size 230.4x136.8 with 1 Axes>"
      ]
     },
     "metadata": {},
     "output_type": "display_data"
    }
   ],
   "source": [
    "fig, ax = plt.subplots(figsize=(3.2, 1.9))\n",
    "subject = 3\n",
    "time = times[subject]\n",
    "hists = histss[subject-1]\n",
    "handles = plot(ax, time=time, sizes=sizes, hists=hists)\n",
    "ax.set_ylabel('Fraction of 1000\\nlargest clones')\n",
    "ax.legend(handles=handles, title='Rank at t=0\\n(binned)', loc='upper left', bbox_to_anchor=(1.0, 1.0))\n",
    "fig.tight_layout()\n",
    "label_axes(axes, xy=(-0.1, 1.1), va='bottom')\n",
    "fig.savefig(figure_directory + 'chu_origin_large_clones_3.svg')"
   ]
  },
  {
   "cell_type": "code",
   "execution_count": null,
   "metadata": {},
   "outputs": [],
   "source": []
  }
 ],
 "metadata": {
  "kernelspec": {
   "display_name": "Python 3",
   "language": "python",
   "name": "python3"
  },
  "language_info": {
   "codemirror_mode": {
    "name": "ipython",
    "version": 3
   },
   "file_extension": ".py",
   "mimetype": "text/x-python",
   "name": "python",
   "nbconvert_exporter": "python",
   "pygments_lexer": "ipython3",
   "version": "3.6.10"
  }
 },
 "nbformat": 4,
 "nbformat_minor": 2
}
