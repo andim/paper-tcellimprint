{
 "cells": [
  {
   "cell_type": "code",
   "execution_count": 1,
   "metadata": {},
   "outputs": [],
   "source": [
    "import pandas as pd\n",
    "\n",
    "import sys\n",
    "sys.path.append('..')\n",
    "from lib import *\n",
    "plt.style.use('../custom.mplstyle')"
   ]
  },
  {
   "cell_type": "code",
   "execution_count": 2,
   "metadata": {},
   "outputs": [
    {
     "name": "stdout",
     "output_type": "stream",
     "text": [
      "1 666 filtered 493 noage 111 format difference 62\n",
      "2 120 filtered 120 noage 0 format difference 0\n",
      "lindau 8\n",
      "all 621 Age: 1-74\n",
      "britanova adult 71 cordblood 8 Age: 6-103\n"
     ]
    }
   ],
   "source": [
    "# overview of numbers\n",
    "for cohort in [1, 2]:\n",
    "    meta = load_metadata_emerson(cohort=cohort, filtered=False)\n",
    "    meta_f = load_metadata_emerson(cohort=cohort, filtered=True)\n",
    "    noage = np.sum(meta['Age'].isna())\n",
    "    print(cohort, meta.shape[0], 'filtered', meta_f.shape[0], 'noage', noage, 'format difference', meta.shape[0]-meta_f.shape[0]-noage)\n",
    "meta = load_metadata_lindau()\n",
    "print('lindau', meta.shape[0])\n",
    "meta = load_metadata_adaptive_all(filtered=True)\n",
    "print('all', meta.shape[0],\n",
    "      'Age: %g-%g'%(round(meta['Age'].min()), meta['Age'].max()))\n",
    "meta = load_metadata_britanova()\n",
    "mask = meta['age']>0\n",
    "print('britanova', 'adult', meta[mask].shape[0], 'cordblood', meta.shape[0]-meta[mask].shape[0],\n",
    "      'Age: %g-%g'%(meta[mask]['age'].min(), meta['age'].max()))"
   ]
  },
  {
   "cell_type": "code",
   "execution_count": 3,
   "metadata": {},
   "outputs": [
    {
     "data": {
      "image/png": "[encoded data removed]",
      "text/plain": [
       "<Figure size 246.24x172.8 with 1 Axes>"
      ]
     },
     "metadata": {},
     "output_type": "display_data"
    }
   ],
   "source": [
    "for cohort in ['all', 'both', 1, 2]:\n",
    "    if cohort == 'all':\n",
    "        meta = load_metadata_adaptive_all(filtered=True)\n",
    "    else:\n",
    "        meta = load_metadata_emerson(cohort=cohort)\n",
    "    meta['Age'].hist(bins=np.arange(0, 75, 1), histtype='stepfilled', alpha=.5)"
   ]
  },
  {
   "cell_type": "code",
   "execution_count": 4,
   "metadata": {},
   "outputs": [
    {
     "data": {
      "text/plain": [
       "False    326\n",
       "True     286\n",
       "Name: CMVpos, dtype: int64"
      ]
     },
     "execution_count": 4,
     "metadata": {},
     "output_type": "execute_result"
    }
   ],
   "source": [
    "meta = load_metadata_emerson(cohort='both')\n",
    "meta['CMVpos'].value_counts()"
   ]
  },
  {
   "cell_type": "code",
   "execution_count": 5,
   "metadata": {},
   "outputs": [],
   "source": [
    "meta = load_metadata_emerson(cohort='both')\n",
    "metaunfiltered = load_metadata_emerson(cohort='both', filtered=False)\n",
    "meta_lindau = load_metadata_lindau()\n",
    "metaall = pd.concat([meta, meta_lindau])"
   ]
  },
  {
   "cell_type": "code",
   "execution_count": 6,
   "metadata": {},
   "outputs": [
    {
     "data": {
      "text/plain": [
       "<matplotlib.axes._subplots.AxesSubplot at 0x7faa263324e0>"
      ]
     },
     "execution_count": 6,
     "metadata": {},
     "output_type": "execute_result"
    },
    {
     "data": {
      "image/png": "[encoded data removed]",
      "text/plain": [
       "<Figure size 246.24x172.8 with 1 Axes>"
      ]
     },
     "metadata": {},
     "output_type": "display_data"
    }
   ],
   "source": [
    "metaunfiltered['Age'].hist(bins=np.arange(0, 75, 1), histtype='stepfilled', alpha=1)\n",
    "meta['Age'].hist(bins=np.arange(0, 75, 1), histtype='stepfilled', alpha=1)"
   ]
  },
  {
   "cell_type": "code",
   "execution_count": 7,
   "metadata": {},
   "outputs": [
    {
     "data": {
      "image/png": "[encoded data removed]",
      "text/plain": [
       "<Figure size 504x194.4 with 2 Axes>"
      ]
     },
     "metadata": {},
     "output_type": "display_data"
    }
   ],
   "source": [
    "fig, axes = plt.subplots(figsize=(7, 2.7), ncols=2)\n",
    "\n",
    "meta = load_metadata_britanova()\n",
    "mask = meta['age']>0\n",
    "meta[mask]['age'].hist(bins=np.arange(0, 104, 1), histtype='stepfilled', ax=axes[0])\n",
    "axes[0].set_xlim(0, 105)\n",
    "axes[0].set_title('Britanova cohort (N=%g)'%len(meta[mask]))\n",
    "\n",
    "metaall['Age'].hist(bins=np.arange(0, 75, 1), histtype='stepfilled', ax=axes[1])\n",
    "axes[1].set_xlim(0, 75)\n",
    "axes[1].set_title('Emerson cohort  (N=%g)'%len(metaall))\n",
    "\n",
    "\n",
    "for ax in axes:\n",
    "    ax.set_xlabel('Age in years (binned)')\n",
    "    ax.set_ylabel('Number of individuals')\n",
    "    ax.grid()\n",
    "label_axes(axes)\n",
    "fig.tight_layout()\n",
    "fig.savefig(figure_directory+'cohortages.svg')"
   ]
  },
  {
   "cell_type": "code",
   "execution_count": null,
   "metadata": {},
   "outputs": [],
   "source": []
  }
 ],
 "metadata": {
  "kernelspec": {
   "display_name": "Python 3",
   "language": "python",
   "name": "python3"
  },
  "language_info": {
   "codemirror_mode": {
    "name": "ipython",
    "version": 3
   },
   "file_extension": ".py",
   "mimetype": "text/x-python",
   "name": "python",
   "nbconvert_exporter": "python",
   "pygments_lexer": "ipython3",
   "version": "3.6.10"
  }
 },
 "nbformat": 4,
 "nbformat_minor": 2
}
